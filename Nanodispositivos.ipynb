{
  "nbformat": 4,
  "nbformat_minor": 0,
  "metadata": {
    "colab": {
      "provenance": []
    },
    "kernelspec": {
      "name": "python3",
      "display_name": "Python 3"
    },
    "language_info": {
      "name": "python"
    }
  },
  "cells": [
    {
      "cell_type": "code",
      "source": [
        "from scipy.constants import k, e, hbar, eV\n",
        "from scipy.integrate import quad\n",
        "import matplotlib.pyplot as plt\n",
        "import numpy as np"
      ],
      "metadata": {
        "id": "XmSGUHmUlf4J"
      },
      "execution_count": null,
      "outputs": []
    },
    {
      "cell_type": "code",
      "execution_count": null,
      "metadata": {
        "id": "lGQcDfW2k9dV"
      },
      "outputs": [],
      "source": [
        "nm = 1e-9                                   # m\n",
        "Length = 40 * nm                            # m\n",
        "Width = 3 * Length                          # m\n",
        "A = Length * Width                          # m^2\n",
        "E_F = -5. * eV                              # J\n",
        "E_C = -4.7 * eV                             # J\n",
        "# tau_d = tau_s -> 0. tal que tau_d / tau_s -> 1\n",
        "C_es = C_G = 0.1 * 1e-15                    # F\n",
        "T_array = np.array([1., 298])               # K\n",
        "V_DS_array = np.linspace(0, .5, 100)        # V\n",
        "V_G_array = np.array([.3, .35, .4, .45, .5])# V\n",
        "m_eff = 9.1 / 2 * 1e-31\n",
        "mu_s=E_F"
      ]
    },
    {
      "cell_type": "markdown",
      "source": [
        "A continuación se pide comparar las soluciones numéricas de la parte (a), con las soluciones analíticas para las regiones lineales y de saturación, y explicar sus discrepancias. "
      ],
      "metadata": {
        "id": "Jh8MMZVA4LjI"
      }
    },
    {
      "cell_type": "markdown",
      "source": [
        "Ecuación 5.60 y 5.61\n",
        "q es la carga del electron.\n",
        "5.56 me da eta\n",
        "Vt en la 5.54\n",
        "eta0 esta en 5.53\n",
        "mu_s=EF\n",
        "C_Q 5.57"
      ],
      "metadata": {
        "id": "aERzgtaQp4qT"
      }
    },
    {
      "cell_type": "markdown",
      "source": [
        "$$I = \\frac{qW}{\\pi^2\\hbar^2}\\sqrt{\\frac{8m}{9}}(\\eta q)^{3/2}[(V_{GS}-V_T)^{3/2}-(V_{GS}-V_T-V_{DS}/\\eta)^{3/2}]$$"
      ],
      "metadata": {
        "id": "OdZSk6V5p9TZ"
      }
    },
    {
      "cell_type": "markdown",
      "source": [
        "$$I = \\frac{qW}{\\pi^2\\hbar^2}\\sqrt{\\frac{8m}{9}}(\\eta q)^{3/2}[(V_{GS}-V_T)^{3/2}]$$"
      ],
      "metadata": {
        "id": "jbO9fH8lyrxK"
      }
    },
    {
      "cell_type": "code",
      "source": [
        "eta_0=1\n",
        "V_T=(E_C-mu_s)/(eta_0*e)\n",
        "C_Q=e**2*m_eff*Width*Length/(2*np.pi*hbar**2)\n",
        "eta=C_G/(C_G+C_Q)"
      ],
      "metadata": {
        "id": "O0Mx2MqzqcXk"
      },
      "execution_count": null,
      "outputs": []
    },
    {
      "cell_type": "code",
      "source": [
        "V_G=0.4\n",
        "U=-eta*e*(V_G-V_T)-eta_0*e*V_T"
      ],
      "metadata": {
        "id": "_rDEyFoSa-ng"
      },
      "execution_count": null,
      "outputs": []
    },
    {
      "cell_type": "code",
      "source": [
        "print(U/eV)"
      ],
      "metadata": {
        "colab": {
          "base_uri": "https://localhost:8080/"
        },
        "id": "Z3oyGST8a-pr",
        "outputId": "e746eb5a-fcf7-41a8-c69d-44f849e033d4"
      },
      "execution_count": null,
      "outputs": [
        {
          "output_type": "stream",
          "name": "stdout",
          "text": [
            "-0.31108268771002473\n"
          ]
        }
      ]
    },
    {
      "cell_type": "code",
      "source": [
        "U2=-eta_0*e*V_G\n",
        "print(U2/eV)"
      ],
      "metadata": {
        "colab": {
          "base_uri": "https://localhost:8080/"
        },
        "id": "y6lCZr7kdVz3",
        "outputId": "4a97a1a3-9afc-4775-cad2-b6fa3bda75a1"
      },
      "execution_count": null,
      "outputs": [
        {
          "output_type": "stream",
          "name": "stdout",
          "text": [
            "-0.2\n"
          ]
        }
      ]
    },
    {
      "cell_type": "code",
      "source": [
        "def Current(V_DS):\n",
        "  if V_DS <= eta*(V_G-V_T):\n",
        "    I=(e*Width)/(np.pi**2*hbar**2)*np.sqrt(8*m_eff/9)*((eta*e)**(3/2))*((V_G-V_T)**(3/2)-(V_G-V_T-V_DS/eta)**(3/2))\n",
        "  else: \n",
        "    I=(e*Width)/(np.pi**2*hbar**2)*np.sqrt(8*m_eff/9)*((eta*e)**(3/2))*((V_G-V_T)**(3/2)) \n",
        "  return I\n",
        "Current_vec=np.vectorize(Current)"
      ],
      "metadata": {
        "id": "iqsVmF-N0-K8"
      },
      "execution_count": null,
      "outputs": []
    },
    {
      "cell_type": "code",
      "source": [
        "for V_G in V_G_array:\n",
        "  I=Current_vec(V_DS_array)\n",
        "  plt.plot(V_DS_array,I/(1e-6),label='$V_G$ = {:} V'.format(V_G))\n",
        "plt.legend()\n",
        "plt.xlabel('Drain Source bias $V_{DS}$ [V]')\n",
        "plt.ylabel('Drain Source current $I_{DS}$ [$\\mu A$]')\n",
        "plt.title('Drain Source current for T=0K');\n",
        "plt.savefig('Analitica_T0K.png', dpi=300)"
      ],
      "metadata": {
        "colab": {
          "base_uri": "https://localhost:8080/",
          "height": 299
        },
        "id": "1lXAQL3h20mg",
        "outputId": "1e830ccb-c66e-4414-f873-15099a61fce9"
      },
      "execution_count": null,
      "outputs": [
        {
          "output_type": "display_data",
          "data": {
            "text/plain": [
              "<Figure size 432x288 with 1 Axes>"
            ],
            "image/png": "[encoded data removed]"
          },
          "metadata": {
            "needs_background": "light"
          }
        }
      ]
    },
    {
      "cell_type": "markdown",
      "source": [
        "Parte (d)"
      ],
      "metadata": {
        "id": "iyZaSP_Br1_4"
      }
    },
    {
      "cell_type": "code",
      "source": [
        "V_T=((E_C-mu_s)/(eta_0*e))\n",
        "print((V_T-V_T*0.7)*(eta_0*e)/eV)"
      ],
      "metadata": {
        "colab": {
          "base_uri": "https://localhost:8080/"
        },
        "id": "pGukuM8qr4dJ",
        "outputId": "acddeb3e-18e6-4418-d2aa-ed100209dc4e"
      },
      "execution_count": null,
      "outputs": [
        {
          "output_type": "stream",
          "name": "stdout",
          "text": [
            "0.08999999999999997\n"
          ]
        }
      ]
    },
    {
      "cell_type": "code",
      "source": [
        "for V_G in V_G_array:\n",
        "  I=Current_vec(V_DS_array)\n",
        "  plt.plot(V_DS_array,I/(1e-6),label='$V_G$ = {:} V'.format(V_G))\n",
        "plt.legend()\n",
        "plt.xlabel('Drain Source bias $V_{DS}$ [V]')\n",
        "plt.ylabel('Drain Source current $I_{DS}$ [$\\mu A$]')\n",
        "plt.title('Drain Source current for T=298K');"
      ],
      "metadata": {
        "colab": {
          "base_uri": "https://localhost:8080/",
          "height": 299
        },
        "id": "-szEbEKZr9Co",
        "outputId": "a3b4686c-3ae3-457a-973e-d7779d361a07"
      },
      "execution_count": null,
      "outputs": [
        {
          "output_type": "display_data",
          "data": {
            "text/plain": [
              "<Figure size 432x288 with 1 Axes>"
            ],
            "image/png": "[encoded data removed]"
          },
          "metadata": {
            "needs_background": "light"
          }
        }
      ]
    },
    {
      "cell_type": "code",
      "source": [
        "V_T=(1.019*E_C-mu_s)/(eta_0*e)"
      ],
      "metadata": {
        "id": "K7BxuPdv01fB"
      },
      "execution_count": null,
      "outputs": []
    },
    {
      "cell_type": "code",
      "source": [
        "(0.019*E_C)/eV"
      ],
      "metadata": {
        "colab": {
          "base_uri": "https://localhost:8080/"
        },
        "id": "ayRv6qqFAgSN",
        "outputId": "67b49765-87c8-45e9-cfd0-94f450f5e5ed"
      },
      "execution_count": null,
      "outputs": [
        {
          "output_type": "execute_result",
          "data": {
            "text/plain": [
              "-0.0893"
            ]
          },
          "metadata": {},
          "execution_count": 78
        }
      ]
    },
    {
      "cell_type": "code",
      "source": [
        "for V_G in V_G_array:\n",
        "  I=Current_vec(V_DS_array)\n",
        "  plt.plot(V_DS_array,I/(1e-6),label='$V_G$ = {:} V'.format(V_G))\n",
        "plt.legend()\n",
        "plt.xlabel('Drain Source bias $V_{DS}$ [V]')\n",
        "plt.ylabel('Drain Source current $I_{DS}$ [$\\mu A$]')\n",
        "plt.title('Drain Source current for T=298K');\n",
        "plt.savefig('Analitica_T298K.png', dpi=300)"
      ],
      "metadata": {
        "colab": {
          "base_uri": "https://localhost:8080/",
          "height": 299
        },
        "id": "N5IridfM2DZU",
        "outputId": "0e167292-8952-4a15-8d1e-9e95b856ea69"
      },
      "execution_count": null,
      "outputs": [
        {
          "output_type": "display_data",
          "data": {
            "text/plain": [
              "<Figure size 432x288 with 1 Axes>"
            ],
            "image/png": "[encoded data removed]"
          },
          "metadata": {
            "needs_background": "light"
          }
        }
      ]
    }
  ]
}