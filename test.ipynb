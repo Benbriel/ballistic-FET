{
 "cells": [
  {
   "cell_type": "code",
   "execution_count": 1,
   "metadata": {},
   "outputs": [],
   "source": [
    "from scipy.constants import k, e, hbar, eV\n",
    "from scipy.integrate import quad\n",
    "import matplotlib.pyplot as plt\n",
    "import numpy as np\n",
    "from utils import *\n"
   ]
  },
  {
   "cell_type": "markdown",
   "metadata": {},
   "source": [
    "# 2D ballistic FET\n",
    "## Enunciado\n",
    "\n",
    "Temperaturas $T=1$ K y $T=298$ K.\n",
    "\n",
    "Plotear con rango $V_{DS}\\in [0, 0.5]$ eV,\n",
    "\n",
    "para $V_{GS}=0.3, 0.35, 0.4, 0.45, 0.5$ eV,\n",
    "\n",
    "Tomar $E_{C1}=-4.7$ eV, $E_{F}=-5.0$ eV,\n",
    "\n",
    "$L=40$ nm, $W=3L$, $C_{G}=0.1$ fF, $C_{D}=C_{S}=0$,\n",
    "\n",
    "masa efectiva $m=0.5m_{0}$, donde $m_{0}=9.1\\times 10^{-31}$ kg.\n",
    "\n",
    "## Variables a ocupar\n",
    "\n",
    "$A = W \\cdot L$ m $^{2}$\n",
    "\n",
    "$\\mu_s=E_F$\n",
    "\n",
    "$\\mu_d=E_F + qV_{DS}$\n"
   ]
  },
  {
   "cell_type": "code",
   "execution_count": 3,
   "metadata": {},
   "outputs": [],
   "source": [
    "# Define Constants\n",
    "Length = 40 * 1e-9                          # m\n",
    "Width = 3 * 40 * 1e-9                       # m\n",
    "A = Length * Width                          # m^2\n",
    "mu_s = 0.5                                  \n",
    "mu_d = 0.5\n",
    "tau_d = 0.5\n",
    "tau_s = 0.5\n",
    "# T = 1\n",
    "N0 = 1\n",
    "C_es = 1\n",
    "A = 1.\n",
    "m = 1.\n",
    "infty = 1.\n",
    "beta = lambda T: 1/(k*T) * eV\n",
    "\n",
    "def f(E, mu, T):\n",
    "    return 1 / (1 + np.exp(np.clip((E - mu) * beta(T), -100, 1e2)))\n",
    "\n",
    "E_array = np.linspace(-20, 20, 1000)"
   ]
  },
  {
   "cell_type": "code",
   "execution_count": 4,
   "metadata": {},
   "outputs": [
    {
     "data": {
      "text/plain": [
       "[<matplotlib.lines.Line2D at 0x1fcff7452d0>]"
      ]
     },
     "execution_count": 4,
     "metadata": {},
     "output_type": "execute_result"
    },
    {
     "data": {
      "image/png": "[encoded data removed]",
      "text/plain": [
       "<Figure size 432x288 with 1 Axes>"
      ]
     },
     "metadata": {
      "needs_background": "light"
     },
     "output_type": "display_data"
    }
   ],
   "source": [
    "plt.plot(E_array, f(E_array, mu_s, 1))"
   ]
  },
  {
   "cell_type": "code",
   "execution_count": null,
   "metadata": {},
   "outputs": [],
   "source": []
  }
 ],
 "metadata": {
  "kernelspec": {
   "display_name": "Python 3.10.5 64-bit",
   "language": "python",
   "name": "python3"
  },
  "language_info": {
   "codemirror_mode": {
    "name": "ipython",
    "version": 3
   },
   "file_extension": ".py",
   "mimetype": "text/x-python",
   "name": "python",
   "nbconvert_exporter": "python",
   "pygments_lexer": "ipython3",
   "version": "3.10.5"
  },
  "orig_nbformat": 4,
  "vscode": {
   "interpreter": {
    "hash": "d1cba19b971ff694059e83efcf642bf4bc6078f5ed50d16de55abdc3eb9fc494"
   }
  }
 },
 "nbformat": 4,
 "nbformat_minor": 2
}
