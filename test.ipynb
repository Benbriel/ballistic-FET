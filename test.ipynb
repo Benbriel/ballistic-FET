{
 "cells": [
  {
   "cell_type": "code",
   "execution_count": 1,
   "metadata": {},
   "outputs": [],
   "source": [
    "from scipy.constants import k, e, hbar, eV\n",
    "from scipy.integrate import quad\n",
    "import matplotlib.pyplot as plt\n",
    "import numpy as np\n",
    "from utils import *"
   ]
  },
  {
   "cell_type": "markdown",
   "metadata": {},
   "source": [
    "# 2D ballistic FET\n",
    "## Enunciado\n",
    "\n",
    "Temperaturas $T=1$ K y $T=298$ K.\n",
    "\n",
    "Plotear con rango $V_{DS}\\in [0, 0.5]$ eV,\n",
    "\n",
    "para $V_{GS}=0.3, 0.35, 0.4, 0.45, 0.5$ eV,\n",
    "\n",
    "Tomar $E_{C1}=-4.7$ eV, $E_{F}=-5.0$ eV,\n",
    "\n",
    "$L=40$ nm, $W=3L$, $C_{G}=0.1$ fF, $C_{D}=C_{S}=0$,\n",
    "\n",
    "masa efectiva $m=0.5m_{0}$, donde $m_{0}=9.1\\times 10^{-31}$ kg.\n",
    "\n",
    "## Variables a ocupar\n",
    "\n",
    "$A = W \\cdot L$ m $^{2}$\n",
    "\n",
    "$\\mu_s=E_F$\n",
    "\n",
    "$\\mu_d=E_F + qV_{DS}$\n"
   ]
  },
  {
   "cell_type": "code",
   "execution_count": 3,
   "metadata": {},
   "outputs": [],
   "source": [
    "# Define Constants\n",
    "Length = 40 * 1e-9                          # m\n",
    "Width = 3 * 40 * 1e-9                       # m\n",
    "A = Length * Width                          # m^2\n",
    "mu_s = 0.5                                  \n",
    "mu_d = 0.5\n",
    "tau_d = 0.5\n",
    "tau_s = 0.5\n",
    "# T = 1\n",
    "N0 = 1\n",
    "C_es = 1\n",
    "A = 1.\n",
    "m = 1.\n",
    "infty = 1.\n",
    "beta = lambda T: 1/(k*T) * eV\n",
    "\n",
    "def f(E, mu, T):\n",
    "    return 1 / (1 + np.exp(np.clip((E - mu) * beta(T), -100, 1e2)))\n",
    "\n",
    "E_array = np.linspace(-20, 20, 1000)"
   ]
  },
  {
   "cell_type": "code",
   "execution_count": 4,
   "metadata": {},
   "outputs": [
    {
     "data": {
      "text/plain": [
       "[<matplotlib.lines.Line2D at 0x1fcff7452d0>]"
      ]
     },
     "execution_count": 4,
     "metadata": {},
     "output_type": "execute_result"
    },
    {
     "data": {
      "image/png": "[encoded data removed]",
      "text/plain": [
       "<Figure size 432x288 with 1 Axes>"
      ]
     },
     "metadata": {
      "needs_background": "light"
     },
     "output_type": "display_data"
    }
   ],
   "source": [
    "plt.plot(E_array, f(E_array, mu_s, 1))"
   ]
  },
  {
   "cell_type": "code",
   "execution_count": 22,
   "metadata": {},
   "outputs": [
    {
     "data": {
      "text/plain": [
       "[<matplotlib.lines.Line2D at 0x26039d20be0>]"
      ]
     },
     "execution_count": 22,
     "metadata": {},
     "output_type": "execute_result"
    },
    {
     "data": {
      "image/png": "[encoded data removed]",
      "text/plain": [
       "<Figure size 432x288 with 1 Axes>"
      ]
     },
     "metadata": {
      "needs_background": "light"
     },
     "output_type": "display_data"
    }
   ],
   "source": [
    "E_plot = np.linspace(E_C, -3*eV, 100000, dtype=np.longdouble)\n",
    "T = 300\n",
    "integrand = g(E_plot-E_C) * f(E_plot - E_F, T)\n",
    "plt.plot(E_plot, integrand)"
   ]
  },
  {
   "cell_type": "code",
   "execution_count": 23,
   "metadata": {},
   "outputs": [
    {
     "name": "stdout",
     "output_type": "stream",
     "text": [
      "0.002361739577826822\n"
     ]
    }
   ],
   "source": [
    "N0 = np.trapz(integrand, x=E_plot)\n",
    "print(N0)"
   ]
  },
  {
   "cell_type": "code",
   "execution_count": 18,
   "metadata": {},
   "outputs": [
    {
     "name": "stderr",
     "output_type": "stream",
     "text": [
      "c:\\Users\\benja\\Uchile\\2022-2\\IND\\ballistic-FET\\utils.py:45: RuntimeWarning: overflow encountered in exp\n",
      "  neg_exp = np.exp(-E * beta(T))\n",
      "c:\\Users\\benja\\Uchile\\2022-2\\IND\\ballistic-FET\\utils.py:46: RuntimeWarning: invalid value encountered in true_divide\n",
      "  return neg_exp / (1 + neg_exp)\n"
     ]
    },
    {
     "data": {
      "text/plain": [
       "[<matplotlib.lines.Line2D at 0x26039cad7e0>]"
      ]
     },
     "execution_count": 18,
     "metadata": {},
     "output_type": "execute_result"
    },
    {
     "data": {
      "image/png": "[encoded data removed]",
      "text/plain": [
       "<Figure size 432x288 with 1 Axes>"
      ]
     },
     "metadata": {
      "needs_background": "light"
     },
     "output_type": "display_data"
    }
   ],
   "source": [
    "integrand2 = 1/2*(g(E_plot-E_C) * f(E_plot - mu_s, T) + g(E_plot-E_C) * f(E_plot - mu_d(1), T))\n",
    "plt.plot(E_plot, integrand2)"
   ]
  },
  {
   "cell_type": "code",
   "execution_count": 21,
   "metadata": {},
   "outputs": [
    {
     "data": {
      "text/plain": [
       "array([nan, nan, nan, ...,  0.,  0.,  0.])"
      ]
     },
     "execution_count": 21,
     "metadata": {},
     "output_type": "execute_result"
    }
   ],
   "source": [
    "integrand2"
   ]
  },
  {
   "cell_type": "code",
   "execution_count": 20,
   "metadata": {},
   "outputs": [
    {
     "name": "stdout",
     "output_type": "stream",
     "text": [
      "nan\n"
     ]
    }
   ],
   "source": [
    "N = np.trapz(integrand2, x=E_plot)\n",
    "print(N)"
   ]
  },
  {
   "cell_type": "code",
   "execution_count": 11,
   "metadata": {},
   "outputs": [
    {
     "data": {
      "text/plain": [
       "3505.2859920317114"
      ]
     },
     "execution_count": 11,
     "metadata": {},
     "output_type": "execute_result"
    }
   ],
   "source": [
    "N - N0"
   ]
  },
  {
   "cell_type": "code",
   "execution_count": 7,
   "metadata": {},
   "outputs": [
    {
     "data": {
      "text/plain": [
       "[<matplotlib.lines.Line2D at 0x1efd8b5efe0>]"
      ]
     },
     "execution_count": 7,
     "metadata": {},
     "output_type": "execute_result"
    },
    {
     "data": {
      "image/png": "[encoded data removed]",
      "text/plain": [
       "<Figure size 432x288 with 1 Axes>"
      ]
     },
     "metadata": {
      "needs_background": "light"
     },
     "output_type": "display_data"
    }
   ],
   "source": [
    "plt.plot(g(E_plot-E_C) * f(E_plot - mu_d(0), 300))"
   ]
  },
  {
   "cell_type": "code",
   "execution_count": 37,
   "metadata": {},
   "outputs": [
    {
     "data": {
      "text/plain": [
       "-1.2834849832677848e-37"
      ]
     },
     "execution_count": 37,
     "metadata": {},
     "output_type": "execute_result"
    }
   ],
   "source": [
    "mu_d(0)"
   ]
  }
 ],
 "metadata": {
  "kernelspec": {
   "display_name": "Python 3.10.5 64-bit",
   "language": "python",
   "name": "python3"
  },
  "language_info": {
   "codemirror_mode": {
    "name": "ipython",
    "version": 3
   },
   "file_extension": ".py",
   "mimetype": "text/x-python",
   "name": "python",
   "nbconvert_exporter": "python",
   "pygments_lexer": "ipython3",
   "version": "3.10.5"
  },
  "orig_nbformat": 4,
  "vscode": {
   "interpreter": {
    "hash": "d1cba19b971ff694059e83efcf642bf4bc6078f5ed50d16de55abdc3eb9fc494"
   }
  }
 },
 "nbformat": 4,
 "nbformat_minor": 2
}
